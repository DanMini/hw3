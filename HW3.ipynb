{
  "nbformat": 4,
  "nbformat_minor": 0,
  "metadata": {
    "colab": {
      "provenance": []
    },
    "kernelspec": {
      "name": "python3",
      "display_name": "Python 3"
    },
    "language_info": {
      "name": "python"
    }
  },
  "cells": [
    {
      "cell_type": "markdown",
      "source": [
        "#Загрузка данных\n"
      ],
      "metadata": {
        "id": "Y6ncatkqZGUA"
      }
    },
    {
      "cell_type": "code",
      "execution_count": 81,
      "metadata": {
        "id": "TrFPbYvNZCpj"
      },
      "outputs": [],
      "source": [
        "#загрузка и подключение библиотек\n",
        "import pandas as pd        \n",
        "import numpy as np\n",
        "import seaborn as sns\n",
        "import matplotlib.pyplot as plt \n",
        "import gensim.downloader as api   \n",
        "import spacy \n",
        "import gensim.models\n",
        "import string\n",
        "from sklearn.metrics import confusion_matrix, classification_report  \n",
        "from sklearn.linear_model import LogisticRegression  \n",
        "from sklearn.model_selection import train_test_split\n",
        "from gensim.models import FastText "
      ]
    },
    {
      "cell_type": "code",
      "source": [
        "#загрузка датасета и проверка\n",
        "data = pd.read_csv(\"spam_or_not_spam.csv\")\n",
        "data.head()"
      ],
      "metadata": {
        "colab": {
          "base_uri": "https://localhost:8080/",
          "height": 206
        },
        "id": "0ky7x5ZYZIF3",
        "outputId": "725a7b5c-1e18-4d8b-c73f-3361bd1f8d6e"
      },
      "execution_count": 25,
      "outputs": [
        {
          "output_type": "execute_result",
          "data": {
            "text/plain": [
              "                                               email  label\n",
              "0   date wed NUMBER aug NUMBER NUMBER NUMBER NUMB...      0\n",
              "1  martin a posted tassos papadopoulos the greek ...      0\n",
              "2  man threatens explosion in moscow thursday aug...      0\n",
              "3  klez the virus that won t die already the most...      0\n",
              "4   in adding cream to spaghetti carbonara which ...      0"
            ],
            "text/html": [
              "\n",
              "  <div id=\"df-dbd1fe77-6d33-4189-ad25-ba53d06df5c6\">\n",
              "    <div class=\"colab-df-container\">\n",
              "      <div>\n",
              "<style scoped>\n",
              "    .dataframe tbody tr th:only-of-type {\n",
              "        vertical-align: middle;\n",
              "    }\n",
              "\n",
              "    .dataframe tbody tr th {\n",
              "        vertical-align: top;\n",
              "    }\n",
              "\n",
              "    .dataframe thead th {\n",
              "        text-align: right;\n",
              "    }\n",
              "</style>\n",
              "<table border=\"1\" class=\"dataframe\">\n",
              "  <thead>\n",
              "    <tr style=\"text-align: right;\">\n",
              "      <th></th>\n",
              "      <th>email</th>\n",
              "      <th>label</th>\n",
              "    </tr>\n",
              "  </thead>\n",
              "  <tbody>\n",
              "    <tr>\n",
              "      <th>0</th>\n",
              "      <td>date wed NUMBER aug NUMBER NUMBER NUMBER NUMB...</td>\n",
              "      <td>0</td>\n",
              "    </tr>\n",
              "    <tr>\n",
              "      <th>1</th>\n",
              "      <td>martin a posted tassos papadopoulos the greek ...</td>\n",
              "      <td>0</td>\n",
              "    </tr>\n",
              "    <tr>\n",
              "      <th>2</th>\n",
              "      <td>man threatens explosion in moscow thursday aug...</td>\n",
              "      <td>0</td>\n",
              "    </tr>\n",
              "    <tr>\n",
              "      <th>3</th>\n",
              "      <td>klez the virus that won t die already the most...</td>\n",
              "      <td>0</td>\n",
              "    </tr>\n",
              "    <tr>\n",
              "      <th>4</th>\n",
              "      <td>in adding cream to spaghetti carbonara which ...</td>\n",
              "      <td>0</td>\n",
              "    </tr>\n",
              "  </tbody>\n",
              "</table>\n",
              "</div>\n",
              "      <button class=\"colab-df-convert\" onclick=\"convertToInteractive('df-dbd1fe77-6d33-4189-ad25-ba53d06df5c6')\"\n",
              "              title=\"Convert this dataframe to an interactive table.\"\n",
              "              style=\"display:none;\">\n",
              "        \n",
              "  <svg xmlns=\"http://www.w3.org/2000/svg\" height=\"24px\"viewBox=\"0 0 24 24\"\n",
              "       width=\"24px\">\n",
              "    <path d=\"M0 0h24v24H0V0z\" fill=\"none\"/>\n",
              "    <path d=\"M18.56 5.44l.94 2.06.94-2.06 2.06-.94-2.06-.94-.94-2.06-.94 2.06-2.06.94zm-11 1L8.5 8.5l.94-2.06 2.06-.94-2.06-.94L8.5 2.5l-.94 2.06-2.06.94zm10 10l.94 2.06.94-2.06 2.06-.94-2.06-.94-.94-2.06-.94 2.06-2.06.94z\"/><path d=\"M17.41 7.96l-1.37-1.37c-.4-.4-.92-.59-1.43-.59-.52 0-1.04.2-1.43.59L10.3 9.45l-7.72 7.72c-.78.78-.78 2.05 0 2.83L4 21.41c.39.39.9.59 1.41.59.51 0 1.02-.2 1.41-.59l7.78-7.78 2.81-2.81c.8-.78.8-2.07 0-2.86zM5.41 20L4 18.59l7.72-7.72 1.47 1.35L5.41 20z\"/>\n",
              "  </svg>\n",
              "      </button>\n",
              "      \n",
              "  <style>\n",
              "    .colab-df-container {\n",
              "      display:flex;\n",
              "      flex-wrap:wrap;\n",
              "      gap: 12px;\n",
              "    }\n",
              "\n",
              "    .colab-df-convert {\n",
              "      background-color: #E8F0FE;\n",
              "      border: none;\n",
              "      border-radius: 50%;\n",
              "      cursor: pointer;\n",
              "      display: none;\n",
              "      fill: #1967D2;\n",
              "      height: 32px;\n",
              "      padding: 0 0 0 0;\n",
              "      width: 32px;\n",
              "    }\n",
              "\n",
              "    .colab-df-convert:hover {\n",
              "      background-color: #E2EBFA;\n",
              "      box-shadow: 0px 1px 2px rgba(60, 64, 67, 0.3), 0px 1px 3px 1px rgba(60, 64, 67, 0.15);\n",
              "      fill: #174EA6;\n",
              "    }\n",
              "\n",
              "    [theme=dark] .colab-df-convert {\n",
              "      background-color: #3B4455;\n",
              "      fill: #D2E3FC;\n",
              "    }\n",
              "\n",
              "    [theme=dark] .colab-df-convert:hover {\n",
              "      background-color: #434B5C;\n",
              "      box-shadow: 0px 1px 3px 1px rgba(0, 0, 0, 0.15);\n",
              "      filter: drop-shadow(0px 1px 2px rgba(0, 0, 0, 0.3));\n",
              "      fill: #FFFFFF;\n",
              "    }\n",
              "  </style>\n",
              "\n",
              "      <script>\n",
              "        const buttonEl =\n",
              "          document.querySelector('#df-dbd1fe77-6d33-4189-ad25-ba53d06df5c6 button.colab-df-convert');\n",
              "        buttonEl.style.display =\n",
              "          google.colab.kernel.accessAllowed ? 'block' : 'none';\n",
              "\n",
              "        async function convertToInteractive(key) {\n",
              "          const element = document.querySelector('#df-dbd1fe77-6d33-4189-ad25-ba53d06df5c6');\n",
              "          const dataTable =\n",
              "            await google.colab.kernel.invokeFunction('convertToInteractive',\n",
              "                                                     [key], {});\n",
              "          if (!dataTable) return;\n",
              "\n",
              "          const docLinkHtml = 'Like what you see? Visit the ' +\n",
              "            '<a target=\"_blank\" href=https://colab.research.google.com/notebooks/data_table.ipynb>data table notebook</a>'\n",
              "            + ' to learn more about interactive tables.';\n",
              "          element.innerHTML = '';\n",
              "          dataTable['output_type'] = 'display_data';\n",
              "          await google.colab.output.renderOutput(dataTable, element);\n",
              "          const docLink = document.createElement('div');\n",
              "          docLink.innerHTML = docLinkHtml;\n",
              "          element.appendChild(docLink);\n",
              "        }\n",
              "      </script>\n",
              "    </div>\n",
              "  </div>\n",
              "  "
            ]
          },
          "metadata": {},
          "execution_count": 25
        }
      ]
    },
    {
      "cell_type": "code",
      "source": [
        "#загрузка датасета слов\n",
        "wordsdata = api.load('word2vec-google-news-300')"
      ],
      "metadata": {
        "colab": {
          "base_uri": "https://localhost:8080/"
        },
        "id": "IuU6N3V9ZKmQ",
        "outputId": "49bdabb3-0025-4eba-b0ec-a35ad4efe472"
      },
      "execution_count": 4,
      "outputs": [
        {
          "output_type": "stream",
          "name": "stdout",
          "text": [
            "[==================================================] 100.0% 1662.8/1662.8MB downloaded\n"
          ]
        }
      ]
    },
    {
      "cell_type": "markdown",
      "source": [
        "#Предобработка"
      ],
      "metadata": {
        "id": "lhcHb9HWjPF5"
      }
    },
    {
      "cell_type": "code",
      "source": [
        "#смена имён столбцов\n",
        "data = data[['email','label']].rename(columns={'email':'text', 'label' :'spam'})\n",
        "data.head()"
      ],
      "metadata": {
        "colab": {
          "base_uri": "https://localhost:8080/",
          "height": 206
        },
        "id": "XJh24Levjy4f",
        "outputId": "afcdc773-b951-403b-9bdc-bebb4e108025"
      },
      "execution_count": 26,
      "outputs": [
        {
          "output_type": "execute_result",
          "data": {
            "text/plain": [
              "                                                text  spam\n",
              "0   date wed NUMBER aug NUMBER NUMBER NUMBER NUMB...     0\n",
              "1  martin a posted tassos papadopoulos the greek ...     0\n",
              "2  man threatens explosion in moscow thursday aug...     0\n",
              "3  klez the virus that won t die already the most...     0\n",
              "4   in adding cream to spaghetti carbonara which ...     0"
            ],
            "text/html": [
              "\n",
              "  <div id=\"df-e49a7eaf-c6b9-41b8-b73a-87b9d8315ec3\">\n",
              "    <div class=\"colab-df-container\">\n",
              "      <div>\n",
              "<style scoped>\n",
              "    .dataframe tbody tr th:only-of-type {\n",
              "        vertical-align: middle;\n",
              "    }\n",
              "\n",
              "    .dataframe tbody tr th {\n",
              "        vertical-align: top;\n",
              "    }\n",
              "\n",
              "    .dataframe thead th {\n",
              "        text-align: right;\n",
              "    }\n",
              "</style>\n",
              "<table border=\"1\" class=\"dataframe\">\n",
              "  <thead>\n",
              "    <tr style=\"text-align: right;\">\n",
              "      <th></th>\n",
              "      <th>text</th>\n",
              "      <th>spam</th>\n",
              "    </tr>\n",
              "  </thead>\n",
              "  <tbody>\n",
              "    <tr>\n",
              "      <th>0</th>\n",
              "      <td>date wed NUMBER aug NUMBER NUMBER NUMBER NUMB...</td>\n",
              "      <td>0</td>\n",
              "    </tr>\n",
              "    <tr>\n",
              "      <th>1</th>\n",
              "      <td>martin a posted tassos papadopoulos the greek ...</td>\n",
              "      <td>0</td>\n",
              "    </tr>\n",
              "    <tr>\n",
              "      <th>2</th>\n",
              "      <td>man threatens explosion in moscow thursday aug...</td>\n",
              "      <td>0</td>\n",
              "    </tr>\n",
              "    <tr>\n",
              "      <th>3</th>\n",
              "      <td>klez the virus that won t die already the most...</td>\n",
              "      <td>0</td>\n",
              "    </tr>\n",
              "    <tr>\n",
              "      <th>4</th>\n",
              "      <td>in adding cream to spaghetti carbonara which ...</td>\n",
              "      <td>0</td>\n",
              "    </tr>\n",
              "  </tbody>\n",
              "</table>\n",
              "</div>\n",
              "      <button class=\"colab-df-convert\" onclick=\"convertToInteractive('df-e49a7eaf-c6b9-41b8-b73a-87b9d8315ec3')\"\n",
              "              title=\"Convert this dataframe to an interactive table.\"\n",
              "              style=\"display:none;\">\n",
              "        \n",
              "  <svg xmlns=\"http://www.w3.org/2000/svg\" height=\"24px\"viewBox=\"0 0 24 24\"\n",
              "       width=\"24px\">\n",
              "    <path d=\"M0 0h24v24H0V0z\" fill=\"none\"/>\n",
              "    <path d=\"M18.56 5.44l.94 2.06.94-2.06 2.06-.94-2.06-.94-.94-2.06-.94 2.06-2.06.94zm-11 1L8.5 8.5l.94-2.06 2.06-.94-2.06-.94L8.5 2.5l-.94 2.06-2.06.94zm10 10l.94 2.06.94-2.06 2.06-.94-2.06-.94-.94-2.06-.94 2.06-2.06.94z\"/><path d=\"M17.41 7.96l-1.37-1.37c-.4-.4-.92-.59-1.43-.59-.52 0-1.04.2-1.43.59L10.3 9.45l-7.72 7.72c-.78.78-.78 2.05 0 2.83L4 21.41c.39.39.9.59 1.41.59.51 0 1.02-.2 1.41-.59l7.78-7.78 2.81-2.81c.8-.78.8-2.07 0-2.86zM5.41 20L4 18.59l7.72-7.72 1.47 1.35L5.41 20z\"/>\n",
              "  </svg>\n",
              "      </button>\n",
              "      \n",
              "  <style>\n",
              "    .colab-df-container {\n",
              "      display:flex;\n",
              "      flex-wrap:wrap;\n",
              "      gap: 12px;\n",
              "    }\n",
              "\n",
              "    .colab-df-convert {\n",
              "      background-color: #E8F0FE;\n",
              "      border: none;\n",
              "      border-radius: 50%;\n",
              "      cursor: pointer;\n",
              "      display: none;\n",
              "      fill: #1967D2;\n",
              "      height: 32px;\n",
              "      padding: 0 0 0 0;\n",
              "      width: 32px;\n",
              "    }\n",
              "\n",
              "    .colab-df-convert:hover {\n",
              "      background-color: #E2EBFA;\n",
              "      box-shadow: 0px 1px 2px rgba(60, 64, 67, 0.3), 0px 1px 3px 1px rgba(60, 64, 67, 0.15);\n",
              "      fill: #174EA6;\n",
              "    }\n",
              "\n",
              "    [theme=dark] .colab-df-convert {\n",
              "      background-color: #3B4455;\n",
              "      fill: #D2E3FC;\n",
              "    }\n",
              "\n",
              "    [theme=dark] .colab-df-convert:hover {\n",
              "      background-color: #434B5C;\n",
              "      box-shadow: 0px 1px 3px 1px rgba(0, 0, 0, 0.15);\n",
              "      filter: drop-shadow(0px 1px 2px rgba(0, 0, 0, 0.3));\n",
              "      fill: #FFFFFF;\n",
              "    }\n",
              "  </style>\n",
              "\n",
              "      <script>\n",
              "        const buttonEl =\n",
              "          document.querySelector('#df-e49a7eaf-c6b9-41b8-b73a-87b9d8315ec3 button.colab-df-convert');\n",
              "        buttonEl.style.display =\n",
              "          google.colab.kernel.accessAllowed ? 'block' : 'none';\n",
              "\n",
              "        async function convertToInteractive(key) {\n",
              "          const element = document.querySelector('#df-e49a7eaf-c6b9-41b8-b73a-87b9d8315ec3');\n",
              "          const dataTable =\n",
              "            await google.colab.kernel.invokeFunction('convertToInteractive',\n",
              "                                                     [key], {});\n",
              "          if (!dataTable) return;\n",
              "\n",
              "          const docLinkHtml = 'Like what you see? Visit the ' +\n",
              "            '<a target=\"_blank\" href=https://colab.research.google.com/notebooks/data_table.ipynb>data table notebook</a>'\n",
              "            + ' to learn more about interactive tables.';\n",
              "          element.innerHTML = '';\n",
              "          dataTable['output_type'] = 'display_data';\n",
              "          await google.colab.output.renderOutput(dataTable, element);\n",
              "          const docLink = document.createElement('div');\n",
              "          docLink.innerHTML = docLinkHtml;\n",
              "          element.appendChild(docLink);\n",
              "        }\n",
              "      </script>\n",
              "    </div>\n",
              "  </div>\n",
              "  "
            ]
          },
          "metadata": {},
          "execution_count": 26
        }
      ]
    },
    {
      "cell_type": "code",
      "source": [
        "#Слова-исключения + перевод в формат str\n",
        "data['text']= data['text'].astype(str)\n",
        "stop = spacy.load(\"en_core_web_sm\")      \n",
        "sw = stop.Defaults.stop_words   \n",
        "' '.join(sw)      "
      ],
      "metadata": {
        "colab": {
          "base_uri": "https://localhost:8080/",
          "height": 128
        },
        "id": "3Gu9iid0kE02",
        "outputId": "2a6f19c9-d695-4bfc-8256-44648e496451"
      },
      "execution_count": 31,
      "outputs": [
        {
          "output_type": "execute_result",
          "data": {
            "text/plain": [
              "\"sometime to others two front ’m beside 'd one among both namely everything nothing up yours anyway toward several do am himself along just become there at beyond seemed a whatever afterwards no together towards above after eight behind with been 'll themselves say re wherever serious upon full of has was amount anything becoming through except whether also alone across whose became any first seeming my her whom formerly fifty next even three various than where otherwise own here name why another on your perhaps very until around before made always because see this therefore about give could noone does their thereafter really must besides take when may ’re enough most used our during whither once top never least whoever quite the meanwhile 're or everyone ’s much what former neither itself moreover me amongst sixty and still anyone however four without mine onto down did less that since nevertheless have few bottom nine will had should well whenever ’ve thereby thus forty something each last unless seem were empty per every whence twenty him herein these further twelve be often which are though eleven six more back nobody they yourself his ‘re please hereupon if 've nowhere either same call other 's n’t sometimes might 'm hers by but over show thence below can into those wherein all an whereafter fifteen she doing hereby off too mostly side such you it elsewhere so hundred now done from becomes he go only regarding almost get many anyhow indeed within n't in none throughout not us whereupon somehow thereupon ’ll anywhere between ten i via then yourselves herself we its thru although third make hence n‘t as else how already someone using five ever everywhere ‘ve under ‘ll due again yet whole rather hereafter therein out some beforehand latter while ‘m move would ’d ours somewhere whereby latterly ca whereas who them is part for against ‘d ourselves being nor keep seems ‘s myself put cannot\""
            ],
            "application/vnd.google.colaboratory.intrinsic+json": {
              "type": "string"
            }
          },
          "metadata": {},
          "execution_count": 31
        }
      ]
    },
    {
      "cell_type": "code",
      "source": [
        "#приведение текста в порядок\n",
        "%%time\n",
        "data['cleaned_text_sm'] = data['text'].apply(\n",
        "    lambda x: ' '.join(\n",
        "        token.lemma_.lower() for token in stop(x) if \n",
        "        not token.is_stop                             \n",
        "        and not token.is_punct                        \n",
        "        and not token.is_space                  \n",
        "    )\n",
        ")\n",
        "data.sample(5)"
      ],
      "metadata": {
        "colab": {
          "base_uri": "https://localhost:8080/",
          "height": 243
        },
        "id": "_4rpXWqRjy7W",
        "outputId": "f91feed3-17a0-4918-8431-ad08ccc53784"
      },
      "execution_count": 32,
      "outputs": [
        {
          "output_type": "stream",
          "name": "stdout",
          "text": [
            "CPU times: user 2min 35s, sys: 1.29 s, total: 2min 36s\n",
            "Wall time: 2min 41s\n"
          ]
        },
        {
          "output_type": "execute_result",
          "data": {
            "text/plain": [
              "                                                   text  spam  \\\n",
              "948    from valdis kletnieks URL date mon NUMBER aug...     0   \n",
              "1008  on fri sep NUMBER NUMBER at NUMBER NUMBER robe...     0   \n",
              "625   on wed NUMBER sep NUMBER tom wrote the others ...     0   \n",
              "2247  url URL date NUMBER NUMBER NUMBERtNUMBER NUMBE...     0   \n",
              "1219  once upon a time brian wrote yeah i need to wo...     0   \n",
              "\n",
              "                                        cleaned_text_sm  \n",
              "948   valdis kletnieks url date mon number aug numbe...  \n",
              "1008  fri sep number number number number robert elz...  \n",
              "625   d number sep number tom write mailing list sta...  \n",
              "2247  url url date number number numbertnumber numbe...  \n",
              "1219  time brian write yeah need work learn lesson l...  "
            ],
            "text/html": [
              "\n",
              "  <div id=\"df-b9cbd863-d0bd-4929-a73c-213210b04959\">\n",
              "    <div class=\"colab-df-container\">\n",
              "      <div>\n",
              "<style scoped>\n",
              "    .dataframe tbody tr th:only-of-type {\n",
              "        vertical-align: middle;\n",
              "    }\n",
              "\n",
              "    .dataframe tbody tr th {\n",
              "        vertical-align: top;\n",
              "    }\n",
              "\n",
              "    .dataframe thead th {\n",
              "        text-align: right;\n",
              "    }\n",
              "</style>\n",
              "<table border=\"1\" class=\"dataframe\">\n",
              "  <thead>\n",
              "    <tr style=\"text-align: right;\">\n",
              "      <th></th>\n",
              "      <th>text</th>\n",
              "      <th>spam</th>\n",
              "      <th>cleaned_text_sm</th>\n",
              "    </tr>\n",
              "  </thead>\n",
              "  <tbody>\n",
              "    <tr>\n",
              "      <th>948</th>\n",
              "      <td>from valdis kletnieks URL date mon NUMBER aug...</td>\n",
              "      <td>0</td>\n",
              "      <td>valdis kletnieks url date mon number aug numbe...</td>\n",
              "    </tr>\n",
              "    <tr>\n",
              "      <th>1008</th>\n",
              "      <td>on fri sep NUMBER NUMBER at NUMBER NUMBER robe...</td>\n",
              "      <td>0</td>\n",
              "      <td>fri sep number number number number robert elz...</td>\n",
              "    </tr>\n",
              "    <tr>\n",
              "      <th>625</th>\n",
              "      <td>on wed NUMBER sep NUMBER tom wrote the others ...</td>\n",
              "      <td>0</td>\n",
              "      <td>d number sep number tom write mailing list sta...</td>\n",
              "    </tr>\n",
              "    <tr>\n",
              "      <th>2247</th>\n",
              "      <td>url URL date NUMBER NUMBER NUMBERtNUMBER NUMBE...</td>\n",
              "      <td>0</td>\n",
              "      <td>url url date number number numbertnumber numbe...</td>\n",
              "    </tr>\n",
              "    <tr>\n",
              "      <th>1219</th>\n",
              "      <td>once upon a time brian wrote yeah i need to wo...</td>\n",
              "      <td>0</td>\n",
              "      <td>time brian write yeah need work learn lesson l...</td>\n",
              "    </tr>\n",
              "  </tbody>\n",
              "</table>\n",
              "</div>\n",
              "      <button class=\"colab-df-convert\" onclick=\"convertToInteractive('df-b9cbd863-d0bd-4929-a73c-213210b04959')\"\n",
              "              title=\"Convert this dataframe to an interactive table.\"\n",
              "              style=\"display:none;\">\n",
              "        \n",
              "  <svg xmlns=\"http://www.w3.org/2000/svg\" height=\"24px\"viewBox=\"0 0 24 24\"\n",
              "       width=\"24px\">\n",
              "    <path d=\"M0 0h24v24H0V0z\" fill=\"none\"/>\n",
              "    <path d=\"M18.56 5.44l.94 2.06.94-2.06 2.06-.94-2.06-.94-.94-2.06-.94 2.06-2.06.94zm-11 1L8.5 8.5l.94-2.06 2.06-.94-2.06-.94L8.5 2.5l-.94 2.06-2.06.94zm10 10l.94 2.06.94-2.06 2.06-.94-2.06-.94-.94-2.06-.94 2.06-2.06.94z\"/><path d=\"M17.41 7.96l-1.37-1.37c-.4-.4-.92-.59-1.43-.59-.52 0-1.04.2-1.43.59L10.3 9.45l-7.72 7.72c-.78.78-.78 2.05 0 2.83L4 21.41c.39.39.9.59 1.41.59.51 0 1.02-.2 1.41-.59l7.78-7.78 2.81-2.81c.8-.78.8-2.07 0-2.86zM5.41 20L4 18.59l7.72-7.72 1.47 1.35L5.41 20z\"/>\n",
              "  </svg>\n",
              "      </button>\n",
              "      \n",
              "  <style>\n",
              "    .colab-df-container {\n",
              "      display:flex;\n",
              "      flex-wrap:wrap;\n",
              "      gap: 12px;\n",
              "    }\n",
              "\n",
              "    .colab-df-convert {\n",
              "      background-color: #E8F0FE;\n",
              "      border: none;\n",
              "      border-radius: 50%;\n",
              "      cursor: pointer;\n",
              "      display: none;\n",
              "      fill: #1967D2;\n",
              "      height: 32px;\n",
              "      padding: 0 0 0 0;\n",
              "      width: 32px;\n",
              "    }\n",
              "\n",
              "    .colab-df-convert:hover {\n",
              "      background-color: #E2EBFA;\n",
              "      box-shadow: 0px 1px 2px rgba(60, 64, 67, 0.3), 0px 1px 3px 1px rgba(60, 64, 67, 0.15);\n",
              "      fill: #174EA6;\n",
              "    }\n",
              "\n",
              "    [theme=dark] .colab-df-convert {\n",
              "      background-color: #3B4455;\n",
              "      fill: #D2E3FC;\n",
              "    }\n",
              "\n",
              "    [theme=dark] .colab-df-convert:hover {\n",
              "      background-color: #434B5C;\n",
              "      box-shadow: 0px 1px 3px 1px rgba(0, 0, 0, 0.15);\n",
              "      filter: drop-shadow(0px 1px 2px rgba(0, 0, 0, 0.3));\n",
              "      fill: #FFFFFF;\n",
              "    }\n",
              "  </style>\n",
              "\n",
              "      <script>\n",
              "        const buttonEl =\n",
              "          document.querySelector('#df-b9cbd863-d0bd-4929-a73c-213210b04959 button.colab-df-convert');\n",
              "        buttonEl.style.display =\n",
              "          google.colab.kernel.accessAllowed ? 'block' : 'none';\n",
              "\n",
              "        async function convertToInteractive(key) {\n",
              "          const element = document.querySelector('#df-b9cbd863-d0bd-4929-a73c-213210b04959');\n",
              "          const dataTable =\n",
              "            await google.colab.kernel.invokeFunction('convertToInteractive',\n",
              "                                                     [key], {});\n",
              "          if (!dataTable) return;\n",
              "\n",
              "          const docLinkHtml = 'Like what you see? Visit the ' +\n",
              "            '<a target=\"_blank\" href=https://colab.research.google.com/notebooks/data_table.ipynb>data table notebook</a>'\n",
              "            + ' to learn more about interactive tables.';\n",
              "          element.innerHTML = '';\n",
              "          dataTable['output_type'] = 'display_data';\n",
              "          await google.colab.output.renderOutput(dataTable, element);\n",
              "          const docLink = document.createElement('div');\n",
              "          docLink.innerHTML = docLinkHtml;\n",
              "          element.appendChild(docLink);\n",
              "        }\n",
              "      </script>\n",
              "    </div>\n",
              "  </div>\n",
              "  "
            ]
          },
          "metadata": {},
          "execution_count": 32
        }
      ]
    },
    {
      "cell_type": "markdown",
      "source": [
        "#Gensim"
      ],
      "metadata": {
        "id": "ztdY52btlq3A"
      }
    },
    {
      "cell_type": "code",
      "source": [
        "#вектор слова \"игра\"\n",
        "type(wordsdata)\n",
        "word_vector = wordsdata['game']\n",
        "word_vector.shape"
      ],
      "metadata": {
        "colab": {
          "base_uri": "https://localhost:8080/"
        },
        "id": "bdIOE1Egjy-m",
        "outputId": "d1f67d00-0cca-4e5c-b90c-d0872608ba21"
      },
      "execution_count": 34,
      "outputs": [
        {
          "output_type": "execute_result",
          "data": {
            "text/plain": [
              "(300,)"
            ]
          },
          "metadata": {},
          "execution_count": 34
        }
      ]
    },
    {
      "cell_type": "code",
      "source": [
        "#близкие к словам \"приложение\" и \"мобильный\"\n",
        "wordsdata.most_similar(positive=['app', 'mobile'], topn=10)"
      ],
      "metadata": {
        "colab": {
          "base_uri": "https://localhost:8080/"
        },
        "id": "S_fIHnfvjzBH",
        "outputId": "83701672-24bc-46e9-a24d-7ea4180ec508"
      },
      "execution_count": 35,
      "outputs": [
        {
          "output_type": "execute_result",
          "data": {
            "text/plain": [
              "[('apps', 0.744373083114624),\n",
              " ('smartphone', 0.7307726144790649),\n",
              " ('iPhone', 0.6870308518409729),\n",
              " ('iPhone_app', 0.669269859790802),\n",
              " ('smartphones', 0.6636013388633728),\n",
              " ('web2go', 0.663374125957489),\n",
              " ('LifeInPocket', 0.663284182548523),\n",
              " ('Maps_Navigation', 0.6571023464202881),\n",
              " ('Android', 0.655826985836029),\n",
              " ('Android_apps', 0.6556190252304077)]"
            ]
          },
          "metadata": {},
          "execution_count": 35
        }
      ]
    },
    {
      "cell_type": "code",
      "source": [
        "#Английский, но не язык\n",
        "wordsdata.most_similar(positive=['english'], negative=['language'], topn=10)"
      ],
      "metadata": {
        "colab": {
          "base_uri": "https://localhost:8080/"
        },
        "id": "Znkr9SylmCqX",
        "outputId": "bd9b280d-5916-4069-e964-3ab5e24f0742"
      },
      "execution_count": 37,
      "outputs": [
        {
          "output_type": "execute_result",
          "data": {
            "text/plain": [
              "[('england', 0.5057789087295532),\n",
              " ('morgan', 0.48939579725265503),\n",
              " ('eddie', 0.4889262914657593),\n",
              " ('birmingham', 0.4798719584941864),\n",
              " ('lewis', 0.47613799571990967),\n",
              " ('europe', 0.47424569725990295),\n",
              " ('clark', 0.4730987548828125),\n",
              " ('portsmouth', 0.47295787930488586),\n",
              " ('ricky', 0.46157118678092957),\n",
              " ('todd', 0.4607299566268921)]"
            ]
          },
          "metadata": {},
          "execution_count": 37
        }
      ]
    },
    {
      "cell_type": "code",
      "source": [
        "#Проверка - слово \"ресторан\" должно быть дальше всех от бассейна, стадиона и трех типов слов \"поле\"\n",
        "print(wordsdata.doesnt_match(['restaurant', 'pitch', 'field', 'stadium', 'pool']))"
      ],
      "metadata": {
        "colab": {
          "base_uri": "https://localhost:8080/"
        },
        "id": "iuRnKTYhmMno",
        "outputId": "ccbae380-23fc-4b2a-9c4d-b930e56d15d2"
      },
      "execution_count": 39,
      "outputs": [
        {
          "output_type": "stream",
          "name": "stdout",
          "text": [
            "restaurant\n"
          ]
        }
      ]
    },
    {
      "cell_type": "code",
      "source": [
        "#доп. обработка\n",
        "data = data[data.text.str.len() != 0]\n",
        "res = []\n",
        "for doc in stop.pipe(data['text']):\n",
        "    res.append([token.lemma_ for token in doc if token.lemma_ not in string.punctuation and not token.is_stop])"
      ],
      "metadata": {
        "id": "WD49uml0sP3_"
      },
      "execution_count": 44,
      "outputs": []
    },
    {
      "cell_type": "code",
      "source": [
        "print(res[0])"
      ],
      "metadata": {
        "colab": {
          "base_uri": "https://localhost:8080/"
        },
        "id": "T9baTmkrs888",
        "outputId": "a61ecb28-66b0-41de-996c-c7e63856d58f"
      },
      "execution_count": 45,
      "outputs": [
        {
          "output_type": "stream",
          "name": "stdout",
          "text": [
            "[' ', 'date', 'd', 'NUMBER', 'aug', 'NUMBER', 'NUMBER', 'NUMBER', 'number', 'number', 'chris', 'garrigues', 'cwg', 'date', 'NUMBER', 'NUMBERfaNUMBERd', 'deepeddy', 'com', 'message', 'd', 'NUMBER', 'NUMBER', 'tmda', 'deepeddy', 'vircio', 'com', 't', 'reproduce', 'error', 'repeatable', 'like', 'time', 'fail', 'debug', 'log', 'pick', 'happen', 'NUMBER', 'NUMBER', 'NUMBER', 'pick_it', 'exec', 'pick', 'inbox', 'list', 'lbrace', 'lbrace', 'subject', 'ftp', 'rbrace', 'rbrace', 'number', 'number', 'sequence', 'mercury', 'NUMBER', 'NUMBER', 'NUMBER', 'exec', 'pick', 'inbox', 'list', 'lbrace', 'lbrace', 'subject', 'ftp', 'rbrace', 'rbrace', 'number', 'number', 'sequence', 'mercury', 'NUMBER', 'NUMBER', 'NUMBER', 'ftoc_pickmsgs', 'number', 'hit', 'NUMBER', 'number', 'number', 'mark', 'NUMBER', 'hit', 'NUMBER', 'NUMBER', 'NUMBER', 'tkerror', 'syntax', 'error', 'expression', 'int', 'note', 'run', 'pick', 'command', 'hand', 'delta', 'pick', 'inbox', 'list', 'lbrace', 'lbrace', 'subject', 'ftp', 'rbrace', 'rbrace', 'number', 'number', 'sequence', 'mercury', 'NUMBER', 'hit', 's', 'NUMBER', 'hit', 'come', 'obviously', 'version', 'nmh', 'm', 'delta', 'pick', 'version', 'pick', 'nmh', 'NUMBER', 'NUMBER', 'number', 'compile', 'url', 'sun', 'mar', 'NUMBER', 'NUMBER', 'NUMBER', 'NUMBER', 'ict', 'NUMBER', 'relevant', 'mh_profile', 'delta', 'mhparam', 'pick', 'seq', 'sel', 'list', 'pick', 'command', 'work', 'sequence', 'actually', 's', 'explicit', 'command', 'line', 'search', 'popup', 'come', 'mh_profile', 'create', 'kre', 'ps', 'version', 'code', 'form', 'day', 'ago', 'haven', 't', 'able', 'reach', 'cvs', 'repository', 'today', 'local', 'routing', 'issue', 'think', 'exmh', 'worker', 'mailing', 'list', 'exmh', 'worker', 'URL', 'url']\n"
          ]
        }
      ]
    },
    {
      "cell_type": "markdown",
      "source": [
        "#SkipGram"
      ],
      "metadata": {
        "id": "_h4KublzyKh9"
      }
    },
    {
      "cell_type": "code",
      "source": [
        "%%time\n",
        "model_W2V_skip_gram = gensim.models.Word2Vec(\n",
        "    sentences=res, \n",
        "    vector_size=256, # vector_size, default = 100\n",
        "    window=5, # default = 5\n",
        "    min_count=3, \n",
        "    sg=1, # Training algorithm: 1 for skip-gram; otherwise CBOW\n",
        "    hs=0, #  If 1, hierarchical softmax will be used for model training. If 0, and negative is non-zero, negative sampling will be used.\n",
        "    negative=5, # If > 0, negative sampling will be used, if set to 0, no negative sampling is used.\n",
        "    epochs=25, # epochs, Number of iterations (epochs) over the corpus\n",
        "    seed=2023,\n",
        ")"
      ],
      "metadata": {
        "colab": {
          "base_uri": "https://localhost:8080/"
        },
        "id": "5ZqKsQl7yOdr",
        "outputId": "08b4ea2c-90e3-479a-ab86-ab1ed22fc7b0"
      },
      "execution_count": 46,
      "outputs": [
        {
          "output_type": "stream",
          "name": "stdout",
          "text": [
            "CPU times: user 2min 7s, sys: 193 ms, total: 2min 7s\n",
            "Wall time: 1min 15s\n"
          ]
        }
      ]
    },
    {
      "cell_type": "code",
      "source": [
        "#Для проверки взято слово \"язык\"\n",
        "model_W2V_skip_gram.wv.most_similar(positive=['language'], topn=10) "
      ],
      "metadata": {
        "colab": {
          "base_uri": "https://localhost:8080/"
        },
        "id": "7ob-84A70TPS",
        "outputId": "d3e2e40f-7ed1-41cd-88f9-01f22a2cc631"
      },
      "execution_count": 52,
      "outputs": [
        {
          "output_type": "execute_result",
          "data": {
            "text/plain": [
              "[('programming', 0.6503124833106995),\n",
              " ('elegance', 0.4966716170310974),\n",
              " ('irrespective', 0.4906229078769684),\n",
              " ('programmer', 0.47094032168388367),\n",
              " ('caller', 0.4517610967159271),\n",
              " ('namibian', 0.44651034474372864),\n",
              " ('commoditize', 0.4431207776069641),\n",
              " ('symbolize', 0.44183868169784546),\n",
              " ('fortran', 0.44070205092430115),\n",
              " ('nominally', 0.4396805763244629)]"
            ]
          },
          "metadata": {},
          "execution_count": 52
        }
      ]
    },
    {
      "cell_type": "code",
      "source": [
        "#Взято слово из списка выше, и видно, что встречается слово \"language\"\n",
        "model_W2V_skip_gram.wv.most_similar(positive=['programmer'], topn=10)"
      ],
      "metadata": {
        "colab": {
          "base_uri": "https://localhost:8080/"
        },
        "id": "OhN1bEVY0Wv6",
        "outputId": "a3b46a5b-121a-40d5-d8c8-a99510547824"
      },
      "execution_count": 53,
      "outputs": [
        {
          "output_type": "execute_result",
          "data": {
            "text/plain": [
              "[('delphi', 0.5993934869766235),\n",
              " ('fortran', 0.5176477432250977),\n",
              " ('deficiency', 0.4902195632457733),\n",
              " ('mfc', 0.47235363721847534),\n",
              " ('language', 0.47094032168388367),\n",
              " ('symbolize', 0.4704573154449463),\n",
              " ('elegance', 0.46380260586738586),\n",
              " ('scripting', 0.4616515636444092),\n",
              " ('vc', 0.45758554339408875),\n",
              " ('alot', 0.4515017867088318)]"
            ]
          },
          "metadata": {},
          "execution_count": 53
        }
      ]
    },
    {
      "cell_type": "code",
      "source": [
        "#Проверка - слово \"ресторан\" должно быть дальше всех слов из списка выше\n",
        "model_W2V_skip_gram.wv.doesnt_match(['restaurant', 'symbolize', 'programmer', 'language', 'programming'])"
      ],
      "metadata": {
        "colab": {
          "base_uri": "https://localhost:8080/",
          "height": 36
        },
        "id": "pSS04UKB0zxr",
        "outputId": "d9075dad-73c0-4d0f-fb8e-aa02e653df26"
      },
      "execution_count": 56,
      "outputs": [
        {
          "output_type": "execute_result",
          "data": {
            "text/plain": [
              "'restaurant'"
            ],
            "application/vnd.google.colaboratory.intrinsic+json": {
              "type": "string"
            }
          },
          "metadata": {},
          "execution_count": 56
        }
      ]
    },
    {
      "cell_type": "code",
      "source": [
        "#Набор слов\n",
        "wordsSG = model_W2V_skip_gram.wv.key_to_index.keys()"
      ],
      "metadata": {
        "id": "YIWMjOFQ16pv"
      },
      "execution_count": 67,
      "outputs": []
    },
    {
      "cell_type": "code",
      "source": [
        "#Работа с векторами\n",
        "i = 0\n",
        "X_skip_gram = [] \n",
        "Y_skip_gram = []\n",
        "for sentence in res:    \n",
        "  veclist = []   \n",
        "  for word in sentence: \n",
        "    if word in wordsSG: \n",
        "      veclist.append(model_W2V_skip_gram.wv[word])    \n",
        "  if veclist:   \n",
        "    X_skip_gram.append(np.mean(veclist, axis=0))                                                    \n",
        "    Y_skip_gram.append(data.spam[i])  \n",
        "  i = i + 1     "
      ],
      "metadata": {
        "id": "n2KpitkK2BqG"
      },
      "execution_count": 68,
      "outputs": []
    },
    {
      "cell_type": "code",
      "source": [
        "#Тренировка\n",
        "X_train_skip_gram, X_test_skip_gram, y_train_skip_gram, y_test_skip_gram = train_test_split(X_skip_gram, Y_skip_gram, random_state=2303)"
      ],
      "metadata": {
        "id": "P2XmHEuH3N5V"
      },
      "execution_count": 69,
      "outputs": []
    },
    {
      "cell_type": "code",
      "source": [
        "#Результат\n",
        "sgReg = LogisticRegression()\n",
        "sgReg.fit(X_train_skip_gram, y_train_skip_gram)\n",
        "sgResult = sgReg.predict(X_test_skip_gram)\n",
        "print(classification_report(y_test_skip_gram, sgResult))"
      ],
      "metadata": {
        "colab": {
          "base_uri": "https://localhost:8080/"
        },
        "id": "X6ac2D5C3QZe",
        "outputId": "445813d5-8e71-4346-ad6f-4edd9db424db"
      },
      "execution_count": 71,
      "outputs": [
        {
          "output_type": "stream",
          "name": "stdout",
          "text": [
            "              precision    recall  f1-score   support\n",
            "\n",
            "           0       0.98      0.99      0.99       622\n",
            "           1       0.95      0.92      0.94       128\n",
            "\n",
            "    accuracy                           0.98       750\n",
            "   macro avg       0.97      0.96      0.96       750\n",
            "weighted avg       0.98      0.98      0.98       750\n",
            "\n"
          ]
        }
      ]
    },
    {
      "cell_type": "markdown",
      "source": [
        "#CBOW"
      ],
      "metadata": {
        "id": "PPo4jftt32Y-"
      }
    },
    {
      "cell_type": "code",
      "source": [
        "%%time\n",
        "model_W2V_CBOW = gensim.models.Word2Vec(\n",
        "    sentences=res, \n",
        "    vector_size=256, # vector_size, default = 100\n",
        "    window=10, # default = 5\n",
        "    min_count=3, \n",
        "    sg=0, # Training algorithm: 1 for skip-gram; otherwise CBOW\n",
        "    hs=0, #  If 1, hierarchical softmax will be used for model training. If 0, and negative is non-zero, negative sampling will be used.\n",
        "    negative=5, # If > 0, negative sampling will be used, if set to 0, no negative sampling is used.\n",
        "    epochs=25, # epochs, Number of iterations (epochs) over the corpus\n",
        "    seed=2023,\n",
        ")"
      ],
      "metadata": {
        "colab": {
          "base_uri": "https://localhost:8080/"
        },
        "id": "W4oRaqcc5JH4",
        "outputId": "f23f730a-5a6d-4bc6-dc55-339901bd99be"
      },
      "execution_count": 72,
      "outputs": [
        {
          "output_type": "stream",
          "name": "stdout",
          "text": [
            "CPU times: user 42.3 s, sys: 146 ms, total: 42.4 s\n",
            "Wall time: 26.4 s\n"
          ]
        }
      ]
    },
    {
      "cell_type": "code",
      "source": [
        "#Для проверки взято слово \"язык\"\n",
        "model_W2V_CBOW.wv.most_similar(positive=['language'], topn=10) "
      ],
      "metadata": {
        "colab": {
          "base_uri": "https://localhost:8080/"
        },
        "id": "pWi-inSn_jbd",
        "outputId": "27962fe7-58e1-4dc7-a751-b0d2025c7ac5"
      },
      "execution_count": 73,
      "outputs": [
        {
          "output_type": "execute_result",
          "data": {
            "text/plain": [
              "[('programming', 0.8161123991012573),\n",
              " ('elegance', 0.739441990852356),\n",
              " ('programmer', 0.6886636018753052),\n",
              " ('java', 0.6446874737739563),\n",
              " ('scripting', 0.6305705308914185),\n",
              " ('delphi', 0.6244141459465027),\n",
              " ('design', 0.6235035061836243),\n",
              " ('fortran', 0.6217892169952393),\n",
              " ('billington', 0.6051723957061768),\n",
              " ('symbolize', 0.5915306806564331)]"
            ]
          },
          "metadata": {},
          "execution_count": 73
        }
      ]
    },
    {
      "cell_type": "code",
      "source": [
        "#Взято слово из списка выше, и видно, что встречается слово \"language\"\n",
        "model_W2V_CBOW.wv.most_similar(positive=['programmer'], topn=10)"
      ],
      "metadata": {
        "colab": {
          "base_uri": "https://localhost:8080/"
        },
        "id": "2QSjB5Kg_jfT",
        "outputId": "b468702d-acdc-4b41-cd0b-2cc225517b39"
      },
      "execution_count": 74,
      "outputs": [
        {
          "output_type": "execute_result",
          "data": {
            "text/plain": [
              "[('programming', 0.7309220433235168),\n",
              " ('delphi', 0.7098283171653748),\n",
              " ('fortran', 0.6923387050628662),\n",
              " ('language', 0.6886637210845947),\n",
              " ('java', 0.6693075895309448),\n",
              " ('elegance', 0.628521203994751),\n",
              " ('design', 0.6279503703117371),\n",
              " ('imho', 0.5815724730491638),\n",
              " ('c', 0.5812642574310303),\n",
              " ('scripting', 0.5771560072898865)]"
            ]
          },
          "metadata": {},
          "execution_count": 74
        }
      ]
    },
    {
      "cell_type": "code",
      "source": [
        "#Проверка - слово \"ресторан\" должно быть дальше всех слов из списка выше\n",
        "model_W2V_CBOW.wv.doesnt_match(['restaurant', 'symbolize', 'programmer', 'language', 'programming'])"
      ],
      "metadata": {
        "colab": {
          "base_uri": "https://localhost:8080/",
          "height": 36
        },
        "id": "Cv6dAIdJ_jxP",
        "outputId": "b80b2031-877b-46a6-abb2-41fd7d38f2ed"
      },
      "execution_count": 75,
      "outputs": [
        {
          "output_type": "execute_result",
          "data": {
            "text/plain": [
              "'restaurant'"
            ],
            "application/vnd.google.colaboratory.intrinsic+json": {
              "type": "string"
            }
          },
          "metadata": {},
          "execution_count": 75
        }
      ]
    },
    {
      "cell_type": "code",
      "source": [
        "#Набор слов\n",
        "wordsSBOW = model_W2V_skip_gram.wv.key_to_index.keys() "
      ],
      "metadata": {
        "id": "SeDFDRGRCGyH"
      },
      "execution_count": 77,
      "outputs": []
    },
    {
      "cell_type": "code",
      "source": [
        "#Работа с векторами\n",
        "i = 0\n",
        "X_CBOW = [] \n",
        "Y_CBOW = []\n",
        "for sentence in res:    \n",
        "  veclist = []   \n",
        "  for word in sentence:\n",
        "    if word in wordsSBOW:   \n",
        "      veclist.append(model_W2V_CBOW.wv[word])     \n",
        "  if veclist:   \n",
        "    X_CBOW.append(np.mean(veclist, axis=0))                                               \n",
        "    Y_CBOW.append(data.spam[i])    \n",
        "  i = i + 1     "
      ],
      "metadata": {
        "id": "f57Mkdv6BtCd"
      },
      "execution_count": 78,
      "outputs": []
    },
    {
      "cell_type": "code",
      "source": [
        "#Тренировка и результат\n",
        "X_train_CBOW, X_test_CBOW, y_train_CBOW, y_test_CBOW = train_test_split(X_CBOW, Y_CBOW, random_state=2303)\n",
        "CBOWreg = LogisticRegression()   \n",
        "CBOWreg.fit(X_train_CBOW, y_train_CBOW)   \n",
        "CBOWresult = CBOWreg.predict(X_test_CBOW)   \n",
        "print(classification_report(y_test_CBOW, CBOWresult))"
      ],
      "metadata": {
        "colab": {
          "base_uri": "https://localhost:8080/"
        },
        "id": "kFBiMiS4BtnC",
        "outputId": "671aee75-0a65-4730-a6ef-1bd7bb1123fa"
      },
      "execution_count": 80,
      "outputs": [
        {
          "output_type": "stream",
          "name": "stdout",
          "text": [
            "              precision    recall  f1-score   support\n",
            "\n",
            "           0       0.99      0.99      0.99       622\n",
            "           1       0.93      0.96      0.95       128\n",
            "\n",
            "    accuracy                           0.98       750\n",
            "   macro avg       0.96      0.97      0.97       750\n",
            "weighted avg       0.98      0.98      0.98       750\n",
            "\n"
          ]
        }
      ]
    },
    {
      "cell_type": "markdown",
      "source": [
        "#FastText"
      ],
      "metadata": {
        "id": "6XA9vouUEd_4"
      }
    },
    {
      "cell_type": "code",
      "source": [
        "FTmodel = FastText(vector_size=256, window=10, min_count=5)\n",
        "FTmodel.build_vocab(corpus_iterable = res)"
      ],
      "metadata": {
        "id": "7Wlg_VZSEhDZ"
      },
      "execution_count": 97,
      "outputs": []
    },
    {
      "cell_type": "code",
      "source": [
        "%%time\n",
        "FTmodel.train(corpus_iterable=res, total_examples=len(res), epochs=25)"
      ],
      "metadata": {
        "colab": {
          "base_uri": "https://localhost:8080/"
        },
        "id": "mMJlNHcvFKKL",
        "outputId": "b9bf6888-aedf-48b8-f7aa-15c1916ac438"
      },
      "execution_count": 98,
      "outputs": [
        {
          "output_type": "stream",
          "name": "stdout",
          "text": [
            "CPU times: user 5min 51s, sys: 411 ms, total: 5min 51s\n",
            "Wall time: 3min 28s\n"
          ]
        },
        {
          "output_type": "execute_result",
          "data": {
            "text/plain": [
              "(8058834, 9970750)"
            ]
          },
          "metadata": {},
          "execution_count": 98
        }
      ]
    },
    {
      "cell_type": "code",
      "source": [
        "#Для проверки взято слово \"язык\"\n",
        "FTmodel.wv.most_similar(positive=['language'], topn=10) "
      ],
      "metadata": {
        "colab": {
          "base_uri": "https://localhost:8080/"
        },
        "id": "Z2vxyqcEGGFJ",
        "outputId": "18de2816-5ebe-4517-d966-3f96148072ec"
      },
      "execution_count": 106,
      "outputs": [
        {
          "output_type": "execute_result",
          "data": {
            "text/plain": [
              "[('langur', 0.7923566102981567),\n",
              " ('java', 0.5576001405715942),\n",
              " ('lang', 0.5270918011665344),\n",
              " ('difficult', 0.5055602788925171),\n",
              " ('efficiency', 0.5022487044334412),\n",
              " ('scientific', 0.5004261136054993),\n",
              " ('programming', 0.496028333902359),\n",
              " ('difference', 0.48711633682250977),\n",
              " ('difficulty', 0.48566552996635437),\n",
              " ('programmer', 0.4815993905067444)]"
            ]
          },
          "metadata": {},
          "execution_count": 106
        }
      ]
    },
    {
      "cell_type": "code",
      "source": [
        "#Взято слово из списка выше, и видно, что встречается слово \"language\"\n",
        "FTmodel.wv.most_similar(positive=['programmer'], topn=10)"
      ],
      "metadata": {
        "colab": {
          "base_uri": "https://localhost:8080/"
        },
        "id": "4ku4pjr-GGRG",
        "outputId": "111d2fce-ff1b-4ef5-8f22-419bde51af37"
      },
      "execution_count": 107,
      "outputs": [
        {
          "output_type": "execute_result",
          "data": {
            "text/plain": [
              "[('programme', 0.9576631784439087),\n",
              " ('program', 0.899738609790802),\n",
              " ('reprogramme', 0.895237147808075),\n",
              " ('programming', 0.8949148058891296),\n",
              " ('progressive', 0.7535768747329712),\n",
              " ('progress', 0.7083593010902405),\n",
              " ('gram', 0.6808252930641174),\n",
              " ('proxy', 0.6798794269561768),\n",
              " ('pro', 0.6483399868011475),\n",
              " ('proud', 0.6358023881912231)]"
            ]
          },
          "metadata": {},
          "execution_count": 107
        }
      ]
    },
    {
      "cell_type": "code",
      "source": [
        "#Проверка - слово \"ресторан\" должно быть дальше всех слов из списка выше\n",
        "FTmodel.wv.doesnt_match(['restaurant', 'scientific', 'programmer', 'language', 'programming'])"
      ],
      "metadata": {
        "colab": {
          "base_uri": "https://localhost:8080/",
          "height": 36
        },
        "id": "W4StBz-AGG5D",
        "outputId": "b87fdbff-0965-476e-d9a5-6e25ebf957ec"
      },
      "execution_count": 109,
      "outputs": [
        {
          "output_type": "execute_result",
          "data": {
            "text/plain": [
              "'restaurant'"
            ],
            "application/vnd.google.colaboratory.intrinsic+json": {
              "type": "string"
            }
          },
          "metadata": {},
          "execution_count": 109
        }
      ]
    },
    {
      "cell_type": "code",
      "source": [
        "#Набор слов\n",
        "wordsFT = FTmodel.wv.key_to_index.keys()"
      ],
      "metadata": {
        "id": "QBSihKxjJO9Y"
      },
      "execution_count": 110,
      "outputs": []
    },
    {
      "cell_type": "code",
      "source": [
        "#Работа с векторами\n",
        "i = 0\n",
        "X_fast_text = []  \n",
        "Y_fast_text = []\n",
        "for sentence in res:\n",
        "  veclist = []\n",
        "  for word in sentence: \n",
        "    if word in wordsFT:\n",
        "      veclist.append(FTmodel.wv[word])   \n",
        "  if veclist:\n",
        "    X_fast_text.append(np.mean(veclist, axis=0))       \n",
        "    Y_fast_text.append(data.spam[i])\n",
        "  i = i + 1  "
      ],
      "metadata": {
        "id": "0oIs-aI7I_16"
      },
      "execution_count": 111,
      "outputs": []
    },
    {
      "cell_type": "code",
      "source": [
        "#Тренировка и результат\n",
        "X_train_fast_text, X_test_fast_text, y_train_fast_text, y_test_fast_text = train_test_split(X_fast_text, Y_fast_text, random_state=2303)\n",
        "FTreg = LogisticRegression()\n",
        "FTreg.fit(X_train_fast_text, y_train_fast_text)\n",
        "FTresult = FTreg.predict(X_test_fast_text)\n",
        "print(classification_report(y_test_fast_text, FTresult))"
      ],
      "metadata": {
        "colab": {
          "base_uri": "https://localhost:8080/"
        },
        "id": "uFiJQPHhJGNY",
        "outputId": "d4985663-99f6-4110-de7f-515a8c1cec33"
      },
      "execution_count": 112,
      "outputs": [
        {
          "output_type": "stream",
          "name": "stdout",
          "text": [
            "              precision    recall  f1-score   support\n",
            "\n",
            "           0       0.99      0.98      0.99       622\n",
            "           1       0.90      0.97      0.93       128\n",
            "\n",
            "    accuracy                           0.98       750\n",
            "   macro avg       0.95      0.97      0.96       750\n",
            "weighted avg       0.98      0.98      0.98       750\n",
            "\n"
          ]
        },
        {
          "output_type": "stream",
          "name": "stderr",
          "text": [
            "/usr/local/lib/python3.10/dist-packages/sklearn/linear_model/_logistic.py:458: ConvergenceWarning: lbfgs failed to converge (status=1):\n",
            "STOP: TOTAL NO. of ITERATIONS REACHED LIMIT.\n",
            "\n",
            "Increase the number of iterations (max_iter) or scale the data as shown in:\n",
            "    https://scikit-learn.org/stable/modules/preprocessing.html\n",
            "Please also refer to the documentation for alternative solver options:\n",
            "    https://scikit-learn.org/stable/modules/linear_model.html#logistic-regression\n",
            "  n_iter_i = _check_optimize_result(\n"
          ]
        }
      ]
    }
  ]
}